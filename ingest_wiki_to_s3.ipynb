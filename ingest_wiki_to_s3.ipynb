{
 "cells": [
  {
   "cell_type": "code",
   "execution_count": 5,
   "id": "a5354ccf",
   "metadata": {},
   "outputs": [
    {
     "ename": "KeyError",
     "evalue": "'BUCKET'",
     "output_type": "error",
     "traceback": [
      "\u001b[0;31m---------------------------------------------------------------------------\u001b[0m",
      "\u001b[0;31mKeyError\u001b[0m                                  Traceback (most recent call last)",
      "Cell \u001b[0;32mIn[5], line 7\u001b[0m\n\u001b[1;32m      4\u001b[0m \u001b[38;5;28;01mfrom\u001b[39;00m \u001b[38;5;21;01msseclient\u001b[39;00m \u001b[38;5;28;01mimport\u001b[39;00m SSEClient  \u001b[38;5;66;03m# pip install sseclient-py\u001b[39;00m\n\u001b[1;32m      6\u001b[0m STREAM \u001b[38;5;241m=\u001b[39m \u001b[38;5;124m\"\u001b[39m\u001b[38;5;124mhttps://stream.wikimedia.org/v2/stream/recentchange\u001b[39m\u001b[38;5;124m\"\u001b[39m\n\u001b[0;32m----> 7\u001b[0m BUCKET \u001b[38;5;241m=\u001b[39m os\u001b[38;5;241m.\u001b[39menviron[\u001b[38;5;124m\"\u001b[39m\u001b[38;5;124mBUCKET\u001b[39m\u001b[38;5;124m\"\u001b[39m]\n\u001b[1;32m      8\u001b[0m PREFIX \u001b[38;5;241m=\u001b[39m \u001b[38;5;124m\"\u001b[39m\u001b[38;5;124mbronze\u001b[39m\u001b[38;5;124m\"\u001b[39m\n\u001b[1;32m      9\u001b[0m S3 \u001b[38;5;241m=\u001b[39m boto3\u001b[38;5;241m.\u001b[39mclient(\u001b[38;5;124m\"\u001b[39m\u001b[38;5;124ms3\u001b[39m\u001b[38;5;124m\"\u001b[39m)\n",
      "File \u001b[0;32m<frozen os>:679\u001b[0m, in \u001b[0;36m__getitem__\u001b[0;34m(self, key)\u001b[0m\n",
      "\u001b[0;31mKeyError\u001b[0m: 'BUCKET'"
     ]
    }
   ],
   "source": [
    "# ingest_wiki_to_s3.py\n",
    "import os, json, time, gzip, uuid, boto3, datetime as dt, requests\n",
    "from botocore.exceptions import ClientError\n",
    "from sseclient import SSEClient  # pip install sseclient-py\n",
    "\n",
    "STREAM = \"https://stream.wikimedia.org/v2/stream/recentchange\"\n",
    "BUCKET = os.environ[\"BUCKET\"]\n",
    "PREFIX = \"bronze\"\n",
    "S3 = boto3.client(\"s3\")\n",
    "\n",
    "def s3_put_bytes(key: str, data: bytes):\n",
    "    S3.put_object(Bucket=BUCKET, Key=key, Body=data, ContentEncoding=\"gzip\", ContentType=\"application/x-ndjson\")\n",
    "\n",
    "def rotate_key(event_dt: dt.datetime):\n",
    "    return f\"{PREFIX}/yyyy={event_dt:%Y}/mm={event_dt:%m}/dd={event_dt:%d}/hh={event_dt:%H}/part-{uuid.uuid4().hex}.ndjson.gz\"\n",
    "\n",
    "def main():\n",
    "    resp = requests.get(STREAM, stream=True, timeout=30)\n",
    "    client = SSEClient(resp)\n",
    "    buf = bytearray()\n",
    "    cur_key = None\n",
    "    start = time.time()\n",
    "\n",
    "    for e in client.events():\n",
    "        if e.event != \"message\": \n",
    "            continue\n",
    "        msg = json.loads(e.data)\n",
    "\n",
    "        # 只收「編輯」且有時間戳；可再加過濾（如 enwiki）\n",
    "        if msg.get(\"type\") != \"edit\" or \"meta\" not in msg:\n",
    "            continue\n",
    "        # 事件時間\n",
    "        event_dt = dt.datetime.fromtimestamp(msg[\"meta\"][\"dt\"] if isinstance(msg[\"meta\"][\"dt\"], (int,float)) else msg[\"timestamp\"], tz=dt.timezone.utc)\n",
    "        msg[\"ingest_time\"] = dt.datetime.now(dt.timezone.utc).isoformat()\n",
    "        msg[\"_dedup_id\"] = msg[\"meta\"][\"id\"]  # 冪等 key（重連時避免重複）\n",
    "\n",
    "        if cur_key is None:\n",
    "            cur_key = rotate_key(event_dt)\n",
    "\n",
    "        line = (json.dumps(msg) + \"\\n\").encode()\n",
    "        buf.extend(line)\n",
    "\n",
    "        # 滾動條件：>5MB 或 >60秒\n",
    "        if len(buf) > 5_000_000 or time.time() - start > 60:\n",
    "            s3_put_bytes(cur_key, gzip.compress(bytes(buf)))\n",
    "            buf.clear()\n",
    "            cur_key = rotate_key(event_dt)\n",
    "            start = time.time()\n"
   ]
  },
  {
   "cell_type": "code",
   "execution_count": null,
   "id": "15447164",
   "metadata": {},
   "outputs": [],
   "source": []
  }
 ],
 "metadata": {
  "kernelspec": {
   "display_name": "base",
   "language": "python",
   "name": "python3"
  },
  "language_info": {
   "codemirror_mode": {
    "name": "ipython",
    "version": 3
   },
   "file_extension": ".py",
   "mimetype": "text/x-python",
   "name": "python",
   "nbconvert_exporter": "python",
   "pygments_lexer": "ipython3",
   "version": "3.11.5"
  }
 },
 "nbformat": 4,
 "nbformat_minor": 5
}
