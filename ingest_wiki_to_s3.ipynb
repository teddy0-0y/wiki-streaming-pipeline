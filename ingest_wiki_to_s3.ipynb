
{"source": [
    "# ingest_wiki_to_s3.py\n",
    "import os, json, time, gzip, uuid, boto3, datetime as dt, requests\n",
    "from botocore.exceptions import ClientError\n",
    "from sseclient import SSEClient  # pip install sseclient-py\n",
    "\n",
    "STREAM = \"https://stream.wikimedia.org/v2/stream/recentchange\"\n",
    "BUCKET = os.environ[\"BUCKET\"]\n",
    "PREFIX = \"bronze\"\n",
    "S3 = boto3.client(\"s3\")\n",
    "\n",
    "def s3_put_bytes(key: str, data: bytes):\n",
    "    S3.put_object(Bucket=BUCKET, Key=key, Body=data, ContentEncoding=\"gzip\", ContentType=\"application/x-ndjson\")\n",
    "\n",
    "def rotate_key(event_dt: dt.datetime):\n",
    "    return f\"{PREFIX}/yyyy={event_dt:%Y}/mm={event_dt:%m}/dd={event_dt:%d}/hh={event_dt:%H}/part-{uuid.uuid4().hex}.ndjson.gz\"\n",
    "\n",
    "def main():\n",
    "    resp = requests.get(STREAM, stream=True, timeout=30)\n",
    "    client = SSEClient(resp)\n",
    "    buf = bytearray()\n",
    "    cur_key = None\n",
    "    start = time.time()\n",
    "\n",
    "    for e in client.events():\n",
    "        if e.event != \"message\": \n",
    "            continue\n",
    "        msg = json.loads(e.data)\n",
    "\n",
    "        # 只收「編輯」且有時間戳；可再加過濾（如 enwiki）\n",
    "        if msg.get(\"type\") != \"edit\" or \"meta\" not in msg:\n",
    "            continue\n",
    "        # 事件時間\n",
    "        event_dt = dt.datetime.fromtimestamp(msg[\"meta\"][\"dt\"] if isinstance(msg[\"meta\"][\"dt\"], (int,float)) else msg[\"timestamp\"], tz=dt.timezone.utc)\n",
    "        msg[\"ingest_time\"] = dt.datetime.now(dt.timezone.utc).isoformat()\n",
    "        msg[\"_dedup_id\"] = msg[\"meta\"][\"id\"]  # 冪等 key（重連時避免重複）\n",
    "\n",
    "        if cur_key is None:\n",
    "            cur_key = rotate_key(event_dt)\n",
    "\n",
    "        line = (json.dumps(msg) + \"\\n\").encode()\n",
    "        buf.extend(line)\n",
    "\n",
    "        # 滾動條件：>5MB 或 >60秒\n",
    "        if len(buf) > 5_000_000 or time.time() - start > 60:\n",
    "            s3_put_bytes(cur_key, gzip.compress(bytes(buf)))\n",
    "            buf.clear()\n",
    "            cur_key = rotate_key(event_dt)\n",
    "            start = time.time()\n"
   ]
  },
  {
   "cell_type": "code",
   "execution_count": null,
   "id": "15447164",
   "metadata": {},
   "outputs": [],
   "source": []
  }
 ],
 "metadata": {
  "kernelspec": {
   "display_name": "base",
   "language": "python",
   "name": "python3"
  },
  "language_info": {
   "codemirror_mode": {
    "name": "ipython",
    "version": 3
   },
   "file_extension": ".py",
   "mimetype": "text/x-python",
   "name": "python",
   "nbconvert_exporter": "python",
   "pygments_lexer": "ipython3",
   "version": "3.11.5"
  }
 },
 "nbformat": 4,
 "nbformat_minor": 5
}


